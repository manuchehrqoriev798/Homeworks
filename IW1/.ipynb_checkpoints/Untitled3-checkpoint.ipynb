{
 "cells": [
  {
   "cell_type": "code",
   "execution_count": null,
   "id": "afe6595b",
   "metadata": {},
   "outputs": [],
   "source": [
    "#something\n"
   ]
  }
 ],
 "metadata": {
  "kernelspec": {
   "display_name": "iw1",
   "language": "python",
   "name": "iw1"
  },
  "language_info": {
   "codemirror_mode": {
    "name": "ipython",
    "version": 3
   },
   "file_extension": ".py",
   "mimetype": "text/x-python",
   "name": "python",
   "nbconvert_exporter": "python",
   "pygments_lexer": "ipython3",
   "version": "3.11.5"
  }
 },
 "nbformat": 4,
 "nbformat_minor": 5
}
