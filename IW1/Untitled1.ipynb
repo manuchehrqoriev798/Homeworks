{
 "cells": [
  {
   "cell_type": "code",
   "execution_count": 7,
   "id": "d3f39464",
   "metadata": {},
   "outputs": [],
   "source": [
    "import ipywidgets as widgets\n",
    "from IPython.display import display\n",
    "import numpy as np\n",
    "import matplotlib.pyplot as plt\n",
    "import sympy as sp\n",
    "\n"
   ]
  },
  {
   "cell_type": "code",
   "execution_count": 8,
   "id": "0462e819",
   "metadata": {},
   "outputs": [
    {
     "name": "stdout",
     "output_type": "stream",
     "text": [
      "Enter a function: x**2\n",
      "Enter a point: 4\n"
     ]
    }
   ],
   "source": [
    "try:\n",
    "    # Input: Function String and Point\n",
    "    function_str = input(\"Enter a function: \")\n",
    "\n",
    "    # Check if the input function is valid\n",
    "    if not function_str:\n",
    "        raise ValueError(\"Error: Function string cannot be empty\")\n",
    "\n",
    "    point_str = input(\"Enter a point: \")\n",
    "\n",
    "    # Check if the input point is valid\n",
    "    if not point_str:\n",
    "        raise ValueError(\"Error: Point cannot be empty\")\n",
    "    \n",
    "    try:\n",
    "        point = float(point_str)\n",
    "    except ValueError:\n",
    "        raise ValueError(\"Error: Invalid point input. Please enter a valid numeric value.\")\n",
    "    \n",
    "    # Continue with Part 3 code...\n",
    "except (sp.SympifyError, ValueError) as e:\n",
    "    print(f\"Error: {e}\")\n",
    "except ZeroDivisionError:\n",
    "    print(\"Error: Division by zero when calculating the limit.\")\n",
    "except KeyboardInterrupt:\n",
    "    print(\"Operation interrupted by the user.\")\n",
    "except (OverflowError, MemoryError):\n",
    "    print(\"Error: Overflow or memory error occurred. The calculation is too complex.\")\n",
    "except SyntaxError:\n",
    "    print(\"Error: Invalid function syntax. Please enter a valid mathematical expression.\")\n",
    "except FileNotFoundError:\n",
    "    print(\"Error: The specified file was not found.\")\n",
    "except IOError:\n",
    "    print(\"Error: Input/output error.\")\n",
    "except AssertionError as e:\n",
    "    print(f\"Assertion failed: {e}\")\n",
    "except IndexError:\n",
    "    print(\"Error: Index out of range.\")\n",
    "except KeyError:\n",
    "    print(\"Error: Key not found in dictionary.\")\n",
    "except AttributeError:\n",
    "    print(\"Error: Attribute not found.\")\n",
    "except Exception as e:\n",
    "    print(f\"An unexpected error occurred: {e}\")\n"
   ]
  },
  {
   "cell_type": "code",
   "execution_count": 3,
   "id": "6cab9ef0",
   "metadata": {},
   "outputs": [
    {
     "name": "stdout",
     "output_type": "stream",
     "text": [
      "Table of Values:\n",
      "x = 0.34, y = 0.12\n",
      "x = 0.38, y = 0.14\n",
      "x = 0.42, y = 0.18\n",
      "x = 0.46, y = 0.21\n",
      "x = 0.50, y = 0.25\n",
      "x = 0.54, y = 0.29\n",
      "x = 0.58, y = 0.34\n",
      "x = 0.62, y = 0.39\n",
      "x = 0.66, y = 0.44\n",
      "x = 0.70, y = 0.50\n",
      "x = 0.74, y = 0.55\n",
      "x = 0.78, y = 0.62\n",
      "x = 0.82, y = 0.68\n",
      "x = 0.87, y = 0.75\n",
      "x = 0.91, y = 0.82\n",
      "x = 0.95, y = 0.90\n",
      "x = 0.99, y = 0.97\n",
      "x = 1.03, y = 1.05\n",
      "x = 1.07, y = 1.14\n",
      "x = 1.11, y = 1.23\n",
      "x = 1.15, y = 1.32\n",
      "x = 1.19, y = 1.41\n",
      "x = 1.23, y = 1.51\n",
      "x = 1.27, y = 1.61\n",
      "x = 1.31, y = 1.72\n",
      "x = 1.35, y = 1.82\n",
      "x = 1.39, y = 1.93\n",
      "x = 1.43, y = 2.05\n",
      "x = 1.47, y = 2.16\n",
      "x = 1.51, y = 2.29\n",
      "x = 1.55, y = 2.41\n",
      "x = 1.59, y = 2.54\n",
      "x = 1.63, y = 2.67\n",
      "x = 1.67, y = 2.80\n",
      "x = 1.71, y = 2.94\n",
      "x = 1.75, y = 3.08\n",
      "x = 1.79, y = 3.22\n",
      "x = 1.83, y = 3.37\n",
      "x = 1.88, y = 3.52\n",
      "x = 1.92, y = 3.67\n",
      "x = 1.96, y = 3.83\n",
      "x = 2.00, y = 3.99\n",
      "x = 2.04, y = 4.15\n",
      "x = 2.08, y = 4.32\n",
      "x = 2.12, y = 4.48\n",
      "x = 2.16, y = 4.66\n",
      "x = 2.20, y = 4.83\n",
      "x = 2.24, y = 5.01\n",
      "x = 2.28, y = 5.20\n",
      "x = 2.32, y = 5.38\n",
      "x = 2.36, y = 5.57\n",
      "x = 2.40, y = 5.76\n",
      "x = 2.44, y = 5.96\n",
      "x = 2.48, y = 6.16\n",
      "x = 2.52, y = 6.36\n",
      "x = 2.56, y = 6.56\n",
      "x = 2.60, y = 6.77\n",
      "x = 2.64, y = 6.99\n",
      "x = 2.68, y = 7.20\n",
      "x = 2.72, y = 7.42\n",
      "x = 2.76, y = 7.64\n",
      "x = 2.80, y = 7.87\n",
      "x = 2.85, y = 8.09\n",
      "x = 2.89, y = 8.33\n",
      "x = 2.93, y = 8.56\n",
      "x = 2.97, y = 8.80\n",
      "x = 3.01, y = 9.04\n",
      "x = 3.05, y = 9.28\n",
      "x = 3.09, y = 9.53\n",
      "x = 3.13, y = 9.78\n",
      "x = 3.17, y = 10.04\n",
      "x = 3.21, y = 10.30\n",
      "x = 3.25, y = 10.56\n",
      "x = 3.29, y = 10.82\n",
      "x = 3.33, y = 11.09\n",
      "x = 3.37, y = 11.36\n",
      "x = 3.41, y = 11.63\n",
      "x = 3.45, y = 11.91\n",
      "x = 3.49, y = 12.19\n",
      "x = 3.53, y = 12.47\n",
      "x = 3.57, y = 12.76\n",
      "x = 3.61, y = 13.05\n",
      "x = 3.65, y = 13.35\n",
      "x = 3.69, y = 13.64\n",
      "x = 3.73, y = 13.94\n",
      "x = 3.77, y = 14.25\n",
      "x = 3.81, y = 14.55\n",
      "x = 3.86, y = 14.86\n",
      "x = 3.90, y = 15.18\n",
      "x = 3.94, y = 15.49\n",
      "x = 3.98, y = 15.81\n",
      "x = 4.02, y = 16.13\n",
      "x = 4.06, y = 16.46\n",
      "x = 4.10, y = 16.79\n",
      "x = 4.14, y = 17.12\n",
      "x = 4.18, y = 17.46\n",
      "x = 4.22, y = 17.80\n",
      "x = 4.26, y = 18.14\n",
      "x = 4.30, y = 18.49\n",
      "x = 4.34, y = 18.84\n"
     ]
    }
   ],
   "source": [
    "# Define the symbol 'x'\n",
    "x = sp.symbols('x')\n",
    "\n",
    "# Parsing the user-provided function string\n",
    "parsed_function = sp.sympify(function_str)\n",
    "\n",
    "# Calculate x_values and y_values\n",
    "x_values = np.linspace(point - 2, point + 2, 100)\n",
    "y_values = [parsed_function.subs(x, val) for val in x_values]\n",
    "\n",
    "# Display the table of values\n",
    "table = list(zip(x_values, y_values))\n",
    "print(\"Table of Values:\")\n",
    "for x_val, y_val in table:\n",
    "    print(f'x = {x_val:.2f}, y = {y_val:.2f}')"
   ]
  },
  {
   "cell_type": "code",
   "execution_count": 5,
   "id": "b20eaddd",
   "metadata": {},
   "outputs": [
    {
     "data": {
      "image/png": "[encoded data removed]",
      "text/plain": [
       "<Figure size 800x600 with 1 Axes>"
      ]
     },
     "metadata": {},
     "output_type": "display_data"
    }
   ],
   "source": [
    "# Plotting the graph\n",
    "plt.figure(figsize=(8, 6))\n",
    "plt.plot(x_values, y_values, label=f'{function_str}')\n",
    "plt.scatter([point], [parsed_function.subs(x, point)], color='red', label=f'Point ({point}, {parsed_function.subs(x, point)})', marker='o')\n",
    "plt.axhline(0, color='black', linewidth=0.5, linestyle='--')\n",
    "plt.axvline(0, color='black', linewidth=0.5, linestyle='--')\n",
    "plt.xlabel('x')\n",
    "plt.ylabel('y')\n",
    "plt.title('Graph of the Function')\n",
    "plt.legend()\n",
    "plt.grid(True)\n",
    "plt.show()\n"
   ]
  },
  {
   "cell_type": "code",
   "execution_count": 6,
   "id": "e066b0f4",
   "metadata": {},
   "outputs": [
    {
     "name": "stdout",
     "output_type": "stream",
     "text": [
      "Limit from the left at x=2.34: 5.47560000000000\n",
      "Limit from the right at x=2.34: 5.47560000000000\n"
     ]
    }
   ],
   "source": [
    "try:\n",
    "    # Calculate the limits\n",
    "    limit_left = sp.limit(parsed_function, x, point, dir='-')\n",
    "    limit_right = sp.limit(parsed_function, x, point, dir='+')\n",
    "\n",
    "    # Print the limits\n",
    "    print(f'Limit from the left at x={point}: {limit_left}')\n",
    "    print(f'Limit from the right at x={point}: {limit_right}')\n",
    "\n",
    "except sp.PoleError:\n",
    "    print(\"Error: The function has a pole at this point.\")\n",
    "except sp.ComplexInfinity:\n",
    "    print(\"Error: The function approaches complex infinity at this point.\")\n",
    "except ZeroDivisionError:\n",
    "    print(\"Error: Division by zero when calculating the limit.\")\n",
    "except KeyboardInterrupt:\n",
    "    print(\"Operation interrupted by the user.\")\n",
    "except (OverflowError, MemoryError):\n",
    "    print(\"Error: Overflow or memory error occurred. The calculation is too complex.\")\n",
    "except Exception as e:\n",
    "    print(f\"An unexpected error occurred: {e}\")\n"
   ]
  },
  {
   "cell_type": "code",
   "execution_count": null,
   "id": "6007f134",
   "metadata": {},
   "outputs": [],
   "source": []
  },
  {
   "cell_type": "code",
   "execution_count": null,
   "id": "efbfa078",
   "metadata": {},
   "outputs": [],
   "source": []
  },
  {
   "cell_type": "code",
   "execution_count": null,
   "id": "cab74aed",
   "metadata": {},
   "outputs": [],
   "source": []
  },
  {
   "cell_type": "code",
   "execution_count": null,
   "id": "38139b41",
   "metadata": {},
   "outputs": [],
   "source": []
  },
  {
   "cell_type": "code",
   "execution_count": null,
   "id": "f51b5dd9",
   "metadata": {},
   "outputs": [],
   "source": []
  }
 ],
 "metadata": {
  "kernelspec": {
   "display_name": "tut_venv",
   "language": "python",
   "name": "tut_venv"
  },
  "language_info": {
   "codemirror_mode": {
    "name": "ipython",
    "version": 3
   },
   "file_extension": ".py",
   "mimetype": "text/x-python",
   "name": "python",
   "nbconvert_exporter": "python",
   "pygments_lexer": "ipython3",
   "version": "3.11.5"
  }
 },
 "nbformat": 4,
 "nbformat_minor": 5
}
